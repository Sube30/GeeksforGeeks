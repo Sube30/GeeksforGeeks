{
 "cells": [
  {
   "cell_type": "markdown",
   "id": "d45d123c-1d70-4cc9-ae74-4181cdf73542",
   "metadata": {},
   "source": [
    "Indexes of Subarray Sum\n",
    "\n",
    "Given an unsorted array arr containing only non-negative integers, your task is to find a continuous subarray (a contiguous sequence of elements) whose sum equals a specified value target. You need to return the 1-based indices of the leftmost and rightmost elements of this subarray."
   ]
  },
  {
   "cell_type": "code",
   "execution_count": 22,
   "id": "fb65da29-3a11-419f-a121-1eeecb039e71",
   "metadata": {},
   "outputs": [
    {
     "name": "stdin",
     "output_type": "stream",
     "text": [
      " 1 2 3 4 5\n",
      " 25\n"
     ]
    },
    {
     "name": "stdout",
     "output_type": "stream",
     "text": [
      "-1\n"
     ]
    }
   ],
   "source": [
    "#User function Template for python3\n",
    "class Solution:\n",
    "    def subArraySum(self, arr, target):\n",
    "        current_sum = 0\n",
    "        start = 0\n",
    "        for i,x in enumerate(arr):\n",
    "            current_sum = current_sum + x\n",
    "            while current_sum > target and start <= i:\n",
    "                current_sum = current_sum - arr[start]\n",
    "                start +=1\n",
    "            if current_sum == target:\n",
    "                return [start+1,i+1]\n",
    "        return [-1]\n",
    "\n",
    "if __name__ == '__main__':\n",
    "\n",
    "        arr = list(map(int, input().strip().split()))\n",
    "        d = int(input().strip())\n",
    "        ob = Solution()\n",
    "        result = ob.subArraySum(arr, d)\n",
    "        \n",
    "        print(\" \".join(map(str,\n",
    "                           result)))  # Print the result in the desired format\n",
    "\n"
   ]
  },
  {
   "cell_type": "markdown",
   "id": "f6dbf726-cbfc-4360-bc3f-5bab1e800d0c",
   "metadata": {},
   "source": [
    "Missing in Array\n",
    "\n",
    "You are given an array arr of size n - 1 that contains distinct integers in the range from 1 to n (inclusive). This array represents a permutation of the integers from 1 to n with one element missing. Your task is to identify and return the missing element."
   ]
  },
  {
   "cell_type": "code",
   "execution_count": 25,
   "id": "44fb4102-5e76-475c-b224-9cdc82d0ce76",
   "metadata": {},
   "outputs": [
    {
     "name": "stdin",
     "output_type": "stream",
     "text": [
      " 3\n",
      " 1 2 4\n"
     ]
    },
    {
     "name": "stdout",
     "output_type": "stream",
     "text": [
      "3\n"
     ]
    },
    {
     "name": "stdin",
     "output_type": "stream",
     "text": [
      " 3 4 1\n"
     ]
    },
    {
     "name": "stdout",
     "output_type": "stream",
     "text": [
      "2\n"
     ]
    },
    {
     "name": "stdin",
     "output_type": "stream",
     "text": [
      " 2 4 3\n"
     ]
    },
    {
     "name": "stdout",
     "output_type": "stream",
     "text": [
      "1\n"
     ]
    }
   ],
   "source": [
    "#User function Template for python3\n",
    "class Solution:\n",
    "    def missingNumber(self, arr):\n",
    "        n = len(arr)+1\n",
    "        arr_prog = (n * (n+1))/2\n",
    "        current_sum = sum(arr)\n",
    "        missing_no = arr_prog - current_sum\n",
    "        return int(missing_no)\n",
    "\n",
    "\n",
    "\n",
    "\n",
    "t = int(input())\n",
    "for _ in range(0, t):\n",
    "    arr = list(map(int, input().split()))\n",
    "    s = Solution().missingNumber(arr)\n",
    "    print(s)\n"
   ]
  },
  {
   "cell_type": "markdown",
   "id": "cf93429c-67c7-431d-934e-37b6cac0b67b",
   "metadata": {},
   "source": [
    "Kadane's Algorithm\n",
    "\n",
    "Given an integer array arr[]. You need to find and return the maximum sum possible from all the subarrays.\n",
    "\n",
    "\n",
    "Solution\n",
    "\n",
    "\n",
    "Initialize Variables:\n",
    "\n",
    "max_sum: This will hold the maximum sum found so far. Start it with a very small number (like negative infinity).\n",
    "current_sum: This will hold the sum of the current subarray being considered. Start it at 0.\n",
    "Iterate Over the Array:\n",
    "\n",
    "For each element in the array:\n",
    "Add the element to current_sum.\n",
    "Update max_sum to be the maximum of max_sum and current_sum. This ensures that max_sum always holds the highest sum encountered.\n",
    "If current_sum becomes negative, reset it to 0. This is because any negative current_sum would only decrease the sum of future subarrays, so it’s better to start a new subarray after a negative sum."
   ]
  },
  {
   "cell_type": "code",
   "execution_count": 27,
   "id": "2891d39f-a982-4aeb-8113-c9fcbba9cab5",
   "metadata": {},
   "outputs": [
    {
     "name": "stdin",
     "output_type": "stream",
     "text": [
      " 2 3 -8 7 -1 2 3\n"
     ]
    },
    {
     "name": "stdout",
     "output_type": "stream",
     "text": [
      "11\n"
     ]
    }
   ],
   "source": [
    "class Solution:\n",
    "    def maxSubArraySum(self,arr):\n",
    "        max_sum = float(\"-inf\")\n",
    "        current_sum = 0\n",
    "        for i in arr:\n",
    "            current_sum += i\n",
    "            max_sum = max(max_sum , current_sum)\n",
    "            if current_sum < 0:\n",
    "                current_sum = 0\n",
    "        return max_sum\n",
    "\n",
    "\n",
    "arr = list(map(int, input().strip().split()))\n",
    "ob = Solution()\n",
    "res = ob.maxSubArraySum(arr)\n",
    "print(res)"
   ]
  },
  {
   "cell_type": "code",
   "execution_count": 5,
   "id": "8775c26c-92c6-417e-9888-de7cddbad215",
   "metadata": {},
   "outputs": [
    {
     "name": "stdout",
     "output_type": "stream",
     "text": [
      "['spam', 'not_spam', 'spam', 'not_spam']\n"
     ]
    }
   ],
   "source": [
    "#IBM - Spam or not spam\n",
    "\n",
    "\n",
    "def check_spam(sentences, spam_words):\n",
    "    \n",
    "    res = []\n",
    "    for sentence in sentences:\n",
    "        count = sum(1 for words in spam_words if words.lower() in sentence.lower())\n",
    "        if count >=2:\n",
    "            res.append('spam')\n",
    "        else:\n",
    "            res.append('not_spam')\n",
    "    return res\n",
    "\n",
    "# Example usage\n",
    "sentences = [\n",
    "    \"This is a Limited Time Offer, ACT now!\",\n",
    "    \"Hello friend, would you like to Invest?\",\n",
    "    \"Reminder, your loan application is approved.\",\n",
    "    \"Enjoy the beautiful day without any offers!\"\n",
    "]\n",
    "\n",
    "spam_words = [\"offer\", \"loan\", \"act\", \"limited\", \"invest\", \"reminder\"]\n",
    "\n",
    "result = check_spam(sentences, spam_words)\n",
    "print(result)"
   ]
  },
  {
   "cell_type": "code",
   "execution_count": 7,
   "id": "f410aaee-bb2b-4ac1-992d-1ee32430e57a",
   "metadata": {},
   "outputs": [
    {
     "name": "stdout",
     "output_type": "stream",
     "text": [
      "3\n",
      "1\n",
      "2\n",
      "1\n",
      "['spam', 'not spam', 'spam', 'not spam']\n"
     ]
    }
   ],
   "source": [
    "def check_spam(sentences, spam_words):\n",
    "    results = []\n",
    "    for sentence in sentences:\n",
    "        # Count the number of spam words in the sentence\n",
    "        count = sum(1 for word in spam_words if word in sentence.lower())\n",
    "        print(count)\n",
    "        # If two or more spam words are found, classify as spam\n",
    "        if count >= 2:\n",
    "            results.append(\"spam\")\n",
    "        else:\n",
    "            results.append(\"not spam\")\n",
    "    return results\n",
    "\n",
    "# Example usage\n",
    "sentences = [\n",
    "    \"This is a limited time offer, act now!\",\n",
    "    \"Hello friend, would you like to invest?\",\n",
    "    \"Reminder, your loan application is approved.\",\n",
    "    \"Enjoy the beautiful day without any offers!\"\n",
    "]\n",
    "\n",
    "spam_words = [\"offer\", \"loan\", \"act\", \"limited\", \"invest\", \"reminder\"]\n",
    "\n",
    "result = check_spam(sentences, spam_words)\n",
    "print(result)\n",
    "\n"
   ]
  },
  {
   "cell_type": "markdown",
   "id": "f6a61ede-76e2-47da-93d7-5ba5d4558ec0",
   "metadata": {},
   "source": [
    "Given an array arr[] of non-negative integers. Each array element represents the maximum length of the jumps that can be made forward from that element. This means if arr[i] = x, then we can jump any distance y such that y ≤ x. Find the minimum number of jumps to reach the end of the array starting from the first element. If an element is 0, then you cannot move through that element.\n",
    "\n"
   ]
  },
  {
   "cell_type": "code",
   "execution_count": 19,
   "id": "41a4960d-1a9f-4b06-a278-c49e9af02dfc",
   "metadata": {},
   "outputs": [
    {
     "name": "stdin",
     "output_type": "stream",
     "text": [
      " 2 3 1 1 4\n"
     ]
    },
    {
     "name": "stdout",
     "output_type": "stream",
     "text": [
      "2\n"
     ]
    }
   ],
   "source": [
    "class Solution:\n",
    "    def minJumps(self, arr):\n",
    "        n = len(arr)\n",
    "        farthest = 0\n",
    "        jumps = 0\n",
    "        current_end = 0\n",
    "        if n<=1:\n",
    "            return -1\n",
    "        if arr[0]==0:\n",
    "            return -1\n",
    "        for i in range(n-1):\n",
    "            farthest = max(farthest,i+arr[i])\n",
    "            if i == current_end:\n",
    "                jumps+=1\n",
    "                current_end = farthest\n",
    "                if current_end>=n-1:\n",
    "                    return jumps\n",
    "            \n",
    "            \n",
    "        return -1\n",
    "\t    \n",
    "if __name__ == '__main__':\n",
    "    #T = int(input())\n",
    "    for i in range(1):\n",
    "        # n = int(input())\n",
    "        Arr = [int(x) for x in input().split()]\n",
    "        ob = Solution()\n",
    "        ans = ob.minJumps(Arr)\n",
    "        print(ans)\n"
   ]
  },
  {
   "cell_type": "markdown",
   "id": "4d8f5db0-5e23-4687-adaa-e468fe73b53d",
   "metadata": {},
   "source": [
    "Array Duplicates\n",
    "Given an array arr of integers, find all the elements that occur more than once in the array. Return the result in ascending order. If no element repeats, return an empty array. "
   ]
  },
  {
   "cell_type": "code",
   "execution_count": 30,
   "id": "a291ca0b-a9ed-4220-bcce-fbe92c434d42",
   "metadata": {},
   "outputs": [
    {
     "name": "stdin",
     "output_type": "stream",
     "text": [
      " 1 1 2 2\n"
     ]
    },
    {
     "name": "stdout",
     "output_type": "stream",
     "text": [
      "[1, 2]\n"
     ]
    }
   ],
   "source": [
    "class Solution:\n",
    "    def findDuplicates(self, arr):\n",
    "        count = {}\n",
    "        duplicates = []\n",
    "\n",
    "        # Count occurrences of each element\n",
    "        for x in arr:\n",
    "            if x in count:\n",
    "                count[x] += 1\n",
    "            else:\n",
    "                count[x] = 1\n",
    "\n",
    "        # Collect elements that appear more than once\n",
    "        for x, freq in count.items():\n",
    "            if freq > 1:\n",
    "                duplicates.append(x)\n",
    "\n",
    "        # Sort the duplicates list before returning\n",
    "        return sorted(duplicates)\n",
    "        \n",
    "if __name__ == '__main__':\n",
    "    #T = int(input())\n",
    "    for i in range(1):\n",
    "        # n = int(input())\n",
    "        Arr = [int(x) for x in input().split()]\n",
    "        ob = Solution()\n",
    "        ans = ob.findDuplicates(Arr)\n",
    "        print(ans)\n"
   ]
  },
  {
   "cell_type": "markdown",
   "id": "495c9a8f-ec26-426a-b66f-4a42b1ec1b22",
   "metadata": {},
   "source": [
    "Given an array arr[], return the second largest element from an array. If the second largest element doesn't exist then return -1.\n",
    "\n",
    "Note: The second largest element should not be equal to the first largest."
   ]
  },
  {
   "cell_type": "code",
   "execution_count": 12,
   "id": "40392116-059e-4b5e-8cf7-479e710cc8d7",
   "metadata": {},
   "outputs": [
    {
     "name": "stdin",
     "output_type": "stream",
     "text": [
      " 12 35 1 10 34 1\n"
     ]
    },
    {
     "name": "stdout",
     "output_type": "stream",
     "text": [
      "34\n"
     ]
    }
   ],
   "source": [
    "#User function Template for python3\n",
    "class Solution:\n",
    "    def getSecondLargest(self, arr):\n",
    "        res = set(arr)\n",
    "        if len(res)>2:\n",
    "            return sorted(list(res))[-2]\n",
    "        else:\n",
    "            return []\n",
    "        \n",
    "\n",
    "        \n",
    "if __name__ == '__main__':\n",
    "    #T = int(input())\n",
    "    for i in range(1):\n",
    "        # n = int(input())\n",
    "        Arr = [int(x) for x in input().split()]\n",
    "        ob = Solution()\n",
    "        ans = ob.getSecondLargest(Arr)\n",
    "        print(ans)\n"
   ]
  },
  {
   "cell_type": "code",
   "execution_count": 23,
   "id": "e08f8daa-2b05-42bc-b57c-77139a325a75",
   "metadata": {},
   "outputs": [
    {
     "name": "stdin",
     "output_type": "stream",
     "text": [
      " 16 17 4 3 5 2\n"
     ]
    },
    {
     "name": "stdout",
     "output_type": "stream",
     "text": [
      "[17, 5, 2]\n"
     ]
    }
   ],
   "source": [
    "#array leaders\n",
    "\n",
    "class Solution:\n",
    "    def leaders(self, arr):\n",
    "        n = len(arr)\n",
    "        leader = []\n",
    "        max_from_right = arr[-1]\n",
    "        leader.append(max_from_right)\n",
    "        for i in range(n-2,-1,-1):\n",
    "            if arr[i] >= max_from_right:\n",
    "                leader.append(arr[i])\n",
    "                max_from_right = arr[i]\n",
    "        leader.reverse()\n",
    "        return leader\n",
    "        \n",
    "            \n",
    "\n",
    "\n",
    "if __name__ == '__main__':\n",
    "    #T = int(input())\n",
    "    for i in range(1):\n",
    "        # n = int(input())\n",
    "        Arr = [int(x) for x in input().split()]\n",
    "        ob = Solution()\n",
    "        ans = ob.leaders(Arr)\n",
    "        print(ans)"
   ]
  },
  {
   "cell_type": "code",
   "execution_count": 24,
   "id": "44382246-54b2-4003-9d79-e9d6f379b064",
   "metadata": {},
   "outputs": [
    {
     "name": "stdin",
     "output_type": "stream",
     "text": [
      " 0 1 2 0 1 2\n"
     ]
    },
    {
     "name": "stdout",
     "output_type": "stream",
     "text": [
      "[0, 0, 1, 1, 2, 2]\n"
     ]
    }
   ],
   "source": [
    "class Solution:\n",
    "    # Function to sort an array of 0s, 1s, and 2s\n",
    "    def sort012(self, arr):\n",
    "        # code here\n",
    "        arr.sort()\n",
    "        return arr\n",
    "        \n",
    "if __name__ == '__main__':\n",
    "    #T = int(input())\n",
    "    for i in range(1):\n",
    "        # n = int(input())\n",
    "        Arr = [int(x) for x in input().split()]\n",
    "        ob = Solution()\n",
    "        ans = ob.sort012(Arr)\n",
    "        print(ans)        "
   ]
  },
  {
   "cell_type": "code",
   "execution_count": 27,
   "id": "a3db6509-643e-4ac7-8161-6f1e4a4e1931",
   "metadata": {},
   "outputs": [
    {
     "name": "stdin",
     "output_type": "stream",
     "text": [
      " 0 1 2 0 1 2\n"
     ]
    },
    {
     "name": "stdout",
     "output_type": "stream",
     "text": [
      "[0, 0, 1, 1, 2, 2]\n"
     ]
    }
   ],
   "source": [
    "#Dutch national flag algorithm\n",
    "class Solution:\n",
    "    # Function to sort an array of 0s, 1s, and 2s\n",
    "    def sort012(self, arr):\n",
    "        # code here\n",
    "        n = len(arr)\n",
    "        low,mid,high = 0,0,n-1\n",
    "        while mid<=high:\n",
    "            if arr[mid]==0:\n",
    "                arr[low],arr[mid] = arr[mid],arr[low]\n",
    "                mid +=1\n",
    "                low+=1\n",
    "            elif arr[mid]==1:\n",
    "                mid+=1\n",
    "            else:\n",
    "                arr[mid],arr[high] = arr[high],arr[mid]\n",
    "                high-=1\n",
    "            \n",
    "        return arr\n",
    "        \n",
    "if __name__ == '__main__':\n",
    "    #T = int(input())\n",
    "    for i in range(1):\n",
    "        # n = int(input())\n",
    "        Arr = [int(x) for x in input().split()]\n",
    "        ob = Solution()\n",
    "        ans = ob.sort012(Arr)\n",
    "        print(ans)      "
   ]
  },
  {
   "cell_type": "markdown",
   "id": "2bb6e0b4-b87d-46b9-98f0-b17b66af26f2",
   "metadata": {},
   "source": [
    "Given an array arr. Find the majority element in the array. If no majority exists, return -1.\n",
    "\n",
    "A majority element in an array is an element that appears strictly more than arr.size()/2 times in the array.\n",
    "\n",
    "Examples:\n",
    "\n",
    "Input: arr[] = [3, 1, 3, 3, 2]\n",
    "Output: 3\n",
    "Explanation: Since, 3 is present more than n/2 times, so it is the majority element."
   ]
  },
  {
   "cell_type": "code",
   "execution_count": 36,
   "id": "69e652ea-a127-49ca-9b26-ea30941fd4f1",
   "metadata": {},
   "outputs": [
    {
     "name": "stdin",
     "output_type": "stream",
     "text": [
      " 999 1000 1000 999 1000 1000 999 1000 999 1000 1000 999 1000 999 999 1000 999 1000 999 999 1000 1000 999 1000 999 999 1000 999 999 1000 1000 1000 999 1000 999 1000 1000 999 999 999 1000 1000 1000 999\n"
     ]
    },
    {
     "name": "stdout",
     "output_type": "stream",
     "text": [
      "-1\n"
     ]
    }
   ],
   "source": [
    "class Solution:\n",
    "    def majorityElement(self, arr):\n",
    "        count = {}\n",
    "        maj = []\n",
    "        for i in arr:\n",
    "            if i in count:\n",
    "                count[i]+=1\n",
    "            else:\n",
    "                count[i]=1\n",
    "        for k,v in count.items():\n",
    "\n",
    "            if v > (len(arr)/2):\n",
    "                return k\n",
    "            else:\n",
    "                return -1\n",
    "                \n",
    "\n",
    "\n",
    "\n",
    "if __name__ == '__main__':\n",
    "    \n",
    "    #T = int(input())\n",
    "    for i in range(1):\n",
    "        # n = int(input())\n",
    "        Arr = [int(x) for x in input().split()]\n",
    "        ob = Solution()\n",
    "        ans = ob.majorityElement(Arr)\n",
    "        print(ans)   "
   ]
  },
  {
   "cell_type": "code",
   "execution_count": null,
   "id": "b8bd10ce-1b77-4c99-9509-ed94a67b0589",
   "metadata": {},
   "outputs": [],
   "source": []
  }
 ],
 "metadata": {
  "kernelspec": {
   "display_name": "Python 3 (ipykernel)",
   "language": "python",
   "name": "python3"
  },
  "language_info": {
   "codemirror_mode": {
    "name": "ipython",
    "version": 3
   },
   "file_extension": ".py",
   "mimetype": "text/x-python",
   "name": "python",
   "nbconvert_exporter": "python",
   "pygments_lexer": "ipython3",
   "version": "3.8.19"
  }
 },
 "nbformat": 4,
 "nbformat_minor": 5
}
